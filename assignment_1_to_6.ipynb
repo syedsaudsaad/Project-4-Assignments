{
  "nbformat": 4,
  "nbformat_minor": 0,
  "metadata": {
    "colab": {
      "provenance": [],
      "authorship_tag": "ABX9TyN7Dwejiyt9iVtTRh4t9J8y",
      "include_colab_link": true
    },
    "kernelspec": {
      "name": "python3",
      "display_name": "Python 3"
    },
    "language_info": {
      "name": "python"
    }
  },
  "cells": [
    {
      "cell_type": "markdown",
      "metadata": {
        "id": "view-in-github",
        "colab_type": "text"
      },
      "source": [
        "<a href=\"https://colab.research.google.com/github/syedsaudsaad/Project-4-Assignments/blob/main/assignment_1_to_6.ipynb\" target=\"_parent\"><img src=\"https://colab.research.google.com/assets/colab-badge.svg\" alt=\"Open In Colab\"/></a>"
      ]
    },
    {
      "cell_type": "markdown",
      "source": [
        "mad-lib 1\n"
      ],
      "metadata": {
        "id": "OyY6CSUEtKl1"
      }
    },
    {
      "cell_type": "code",
      "source": [
        "print(\"\\n✨ Welcome to The Mysterious Adventure Mad Libs Game ✨\\n\")\n",
        "name=input(\"Enter your name here:\")\n",
        "object=input(\"Enter any object here:\")\n",
        "place=input(\"Enter your favourite place here:\")\n",
        "color=input(\"Enter your favourite color here:\")\n",
        "animal=input(\"Enter your favourite animal here:\")\n",
        "funny_phrase=input(\"Enter a funny phrase here:\")\n",
        "huge_object=input(\"Enter a huge object here:\")\n",
        "action_verb=input(\"Enter an action verb here:\")\n",
        "adjective=input(\"Enter an adjective here:\")\n",
        "creature_of_person=input(\"Enter a creature of person here:\")\n",
        "random_dialogue=input(\"Enter a random dialouge here:\")\n",
        "past_tense_verb=input(\"Enter a past tense action here:\")\n",
        "print(\"\\n--- The Great Adventure of \" + name + \" ---\\n\")\n",
        "\n",
        "print(f\"One day, {name} decided to explore {place}. With a {object} in hand, they set off on their journey.\")\n",
        "print(f\"Suddenly, a {color} {animal} appeared and blocked the path.\")\n",
        "\n",
        "print(f'\"{funny_phrase},\" it said.')\n",
        "\n",
        "print(f\"Confused but determined, {name} climbed a {object} and discovered a {huge_object} ahead.\")\n",
        "print(f\"Gathering courage, they decided to {action_verb}.\")\n",
        "\n",
        "print(f\"Out of nowhere, a {adjective} {creature_of_person} appeared and shouted, '{random_dialogue}!'\")\n",
        "\n",
        "print(f\"In the end, {name} {past_tense_verb} and the adventure ended {adjective}.\")"
      ],
      "metadata": {
        "colab": {
          "base_uri": "https://localhost:8080/"
        },
        "id": "FWRe1KrUtMPm",
        "outputId": "a3057ddf-a5eb-4320-963f-5419d020bb9e"
      },
      "execution_count": 3,
      "outputs": [
        {
          "output_type": "stream",
          "name": "stdout",
          "text": [
            "\n",
            "✨ Welcome to The Mysterious Adventure Mad Libs Game ✨\n",
            "\n",
            "Enter your name here:saud\n",
            "Enter any object here:wobbly\n",
            "Enter your favourite place here:karachi\n",
            "Enter your favourite color here:black\n",
            "Enter your favourite animal here:cat\n",
            "Enter a funny phrase here:house\n",
            "Enter a huge object here:toaster\n",
            "Enter an action verb here:penguin\n",
            "Enter an adjective here:breakdance\n",
            "Enter a creature of person here:great googly mmgly\n",
            "Enter a random dialouge here:done\n",
            "Enter a past tense action here:table\n",
            "\n",
            "--- The Great Adventure of saud ---\n",
            "\n",
            "One day, saud decided to explore karachi. With a wobbly in hand, they set off on their journey.\n",
            "Suddenly, a black cat appeared and blocked the path.\n",
            "\"house,\" it said.\n",
            "Confused but determined, saud climbed a wobbly and discovered a toaster ahead.\n",
            "Gathering courage, they decided to penguin.\n",
            "Out of nowhere, a breakdance great googly mmgly appeared and shouted, 'done!'\n",
            "In the end, saud table and the adventure ended breakdance.\n"
          ]
        }
      ]
    }
  ]
}