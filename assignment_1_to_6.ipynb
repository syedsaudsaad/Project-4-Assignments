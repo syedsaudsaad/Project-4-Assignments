{
  "nbformat": 4,
  "nbformat_minor": 0,
  "metadata": {
    "colab": {
      "provenance": [],
      "authorship_tag": "ABX9TyNH8XJA+Ods0nzAET/dqd7t",
      "include_colab_link": true
    },
    "kernelspec": {
      "name": "python3",
      "display_name": "Python 3"
    },
    "language_info": {
      "name": "python"
    }
  },
  "cells": [
    {
      "cell_type": "markdown",
      "metadata": {
        "id": "view-in-github",
        "colab_type": "text"
      },
      "source": [
        "<a href=\"https://colab.research.google.com/github/syedsaudsaad/Project-4-Assignments/blob/main/assignment_1_to_6.ipynb\" target=\"_parent\"><img src=\"https://colab.research.google.com/assets/colab-badge.svg\" alt=\"Open In Colab\"/></a>"
      ]
    },
    {
      "cell_type": "markdown",
      "source": [
        "Password Generator Python Project 7"
      ],
      "metadata": {
        "id": "ZOg8y09e4Y7x"
      }
    },
    {
      "cell_type": "code",
      "source": [
        "import random\n",
        "import string\n",
        "\n",
        "def generator_password(length):\n",
        "     characters = string.ascii_letters + string.digits + string.punctuation\n",
        "     password = \"\".join(random.choice(characters) for _ in range(length))\n",
        "     return password\n",
        "length = int(input(\"Enter the desired password length: \"))\n",
        "if __name__ == '__main__':\n",
        "      print(\"Generated password:\", generator_password(length))"
      ],
      "metadata": {
        "id": "gY2qkBYB-k-Z",
        "colab": {
          "base_uri": "https://localhost:8080/"
        },
        "outputId": "e5afb851-0c7b-4267-dbda-5dc3aaa24da8"
      },
      "execution_count": 5,
      "outputs": [
        {
          "output_type": "stream",
          "name": "stdout",
          "text": [
            "Enter the desired password length: 7\n",
            "Generated password: c!lJwZu\n"
          ]
        }
      ]
    }
  ]
}