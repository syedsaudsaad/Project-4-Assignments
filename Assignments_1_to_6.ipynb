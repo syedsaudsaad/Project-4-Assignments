{
  "nbformat": 4,
  "nbformat_minor": 0,
  "metadata": {
    "colab": {
      "provenance": [],
      "authorship_tag": "ABX9TyOuK+YAF0bqra6MGBzRHGwN",
      "include_colab_link": true
    },
    "kernelspec": {
      "name": "python3",
      "display_name": "Python 3"
    },
    "language_info": {
      "name": "python"
    }
  },
  "cells": [
    {
      "cell_type": "markdown",
      "metadata": {
        "id": "view-in-github",
        "colab_type": "text"
      },
      "source": [
        "<a href=\"https://colab.research.google.com/github/syedsaudsaad/Project-4-Assignments/blob/main/Assignments_1_to_6.ipynb\" target=\"_parent\"><img src=\"https://colab.research.google.com/assets/colab-badge.svg\" alt=\"Open In Colab\"/></a>"
      ]
    },
    {
      "cell_type": "markdown",
      "source": [
        "Mad libs Python Project 1"
      ],
      "metadata": {
        "id": "soVpzNBdNXNe"
      }
    },
    {
      "cell_type": "code",
      "source": [
        "name =  input(\"Enter the boy name: \")\n",
        "programming_language = input(\"Enter a programming language(e.g: python , typescript, next.js , html , css , java , javascript):\")\n",
        "mentor = input(\"Enter the mentor name: \")\n",
        "\n",
        "print(\"\\n Here is my little story based on mad libs game! \")\n",
        "print(f\"one's upon a time, ther was a boy named {name}. \")\n",
        "print(f\"{name} was very curious and always want to learn new things\")\n",
        "print(f\"One day, he decided to learn {programming_language} language at governor house!\")\n",
        "print(f\"luckily {name} found a great mentor name as {mentor} who was an expert in {programming_language}.\")\n",
        "print(\"And so, his journey continuse...!\")"
      ],
      "metadata": {
        "colab": {
          "base_uri": "https://localhost:8080/"
        },
        "id": "UM62VP-MdnZA",
        "outputId": "a17fdebf-0be4-4b4f-f354-8a83ab689ccc"
      },
      "execution_count": 1,
      "outputs": [
        {
          "output_type": "stream",
          "name": "stdout",
          "text": [
            "Enter the boy name: saud\n",
            "Enter a programming language(e.g: python , typescript, next.js , html , css , java , javascript):python programming\n",
            "Enter the mentor name: syedsaudsaad\n",
            "\n",
            " Here is my little story based on mad libs game! \n",
            "one's upon a time, ther was a boy named saud. \n",
            "saud was very curious and always want to learn new things\n",
            "One day, he decided to learn python programming language at governor house!\n",
            "luckily saud found a great mentor name as syedsaudsaad who was an expert in python programming.\n",
            "And so, his journey continuse...!\n"
          ]
        }
      ]
    }
  ]
}