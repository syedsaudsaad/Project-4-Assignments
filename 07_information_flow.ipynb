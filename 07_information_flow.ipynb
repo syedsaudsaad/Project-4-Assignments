{
  "nbformat": 4,
  "nbformat_minor": 0,
  "metadata": {
    "colab": {
      "provenance": [],
      "authorship_tag": "ABX9TyM6qe0UauRJouR8DYH/9aRx",
      "include_colab_link": true
    },
    "kernelspec": {
      "name": "python3",
      "display_name": "Python 3"
    },
    "language_info": {
      "name": "python"
    }
  },
  "cells": [
    {
      "cell_type": "markdown",
      "metadata": {
        "id": "view-in-github",
        "colab_type": "text"
      },
      "source": [
        "<a href=\"https://colab.research.google.com/github/syedsaudsaad/Project-4-Assignments/blob/main/07_information_flow.ipynb\" target=\"_parent\"><img src=\"https://colab.research.google.com/assets/colab-badge.svg\" alt=\"Open In Colab\"/></a>"
      ]
    },
    {
      "cell_type": "code",
      "execution_count": 3,
      "metadata": {
        "colab": {
          "base_uri": "https://localhost:8080/"
        },
        "id": "93R5oG-RXxJe",
        "outputId": "5ce4398a-653b-432a-f2dc-09622c021134"
      },
      "outputs": [
        {
          "output_type": "stream",
          "name": "stdout",
          "text": [
            "How old is this person?: 35\n",
            "True\n"
          ]
        }
      ],
      "source": [
        "#00_choosing_returns\n",
        "ADULT_AGE: int = 18  # U.S. legal adult age\n",
        "\n",
        "def is_adult(age: int):\n",
        "    if age >= ADULT_AGE:\n",
        "        return True\n",
        "    return False\n",
        "\n",
        "def main():\n",
        "    age: int = int(input(\"How old is this person?: \"))\n",
        "    print(is_adult(age))\n",
        "\n",
        "if __name__ == \"__main__\":\n",
        "    main()\n"
      ]
    },
    {
      "cell_type": "code",
      "source": [
        "#01_greetings\n",
        "def greet(name):\n",
        "    print(\"Greetings \" + name + \"!\")\n",
        "\n",
        "def main():\n",
        "    name: str = input(\"What's your name? \")\n",
        "    greet(name)\n",
        "\n",
        "if __name__ == '__main__':\n",
        "    main()\n"
      ],
      "metadata": {
        "colab": {
          "base_uri": "https://localhost:8080/"
        },
        "id": "wn9DzuOTYqxh",
        "outputId": "1961be36-ba51-4fb0-9d3e-2235a2efddd6"
      },
      "execution_count": 4,
      "outputs": [
        {
          "output_type": "stream",
          "name": "stdout",
          "text": [
            "What's your name? Sophia\n",
            "Greetings Sophia!\n"
          ]
        }
      ]
    },
    {
      "cell_type": "code",
      "source": [
        "#02_in_range\n",
        "def in_range(n, low, high):\n",
        "    \"\"\"\n",
        "    Returns True if n is between low and high, inclusive.\n",
        "    high is guaranteed to be greater than low.\n",
        "    \"\"\"\n",
        "    if n >= low and n <= high:\n",
        "        return True\n",
        "    return False\n",
        "\n",
        "def main():\n",
        "    n = int(input(\"Enter a number (n): \"))\n",
        "    low = int(input(\"Enter the lower bound: \"))\n",
        "    high = int(input(\"Enter the upper bound: \"))\n",
        "\n",
        "    print(in_range(n, low, high))\n",
        "\n",
        "if __name__ == '__main__':\n",
        "    main()\n"
      ],
      "metadata": {
        "colab": {
          "base_uri": "https://localhost:8080/"
        },
        "id": "YW6dL6UuY3vG",
        "outputId": "55e09e4d-9290-4769-994a-c29677dea824"
      },
      "execution_count": 5,
      "outputs": [
        {
          "output_type": "stream",
          "name": "stdout",
          "text": [
            "Enter a number (n):  10\n",
            "Enter the lower bound: 5 \n",
            "Enter the upper bound: 15\n",
            "True\n"
          ]
        }
      ]
    },
    {
      "cell_type": "code",
      "source": [
        "#03_in_stock\n",
        "def num_in_stock(fruit):\n",
        "    \"\"\"\n",
        "    This function returns the number of fruit Sophia has in stock.\n",
        "    \"\"\"\n",
        "    if fruit == 'apple':\n",
        "        return 2\n",
        "    if fruit == 'durian':\n",
        "        return 4\n",
        "    if fruit == 'pear':\n",
        "        return 1000\n",
        "    else:\n",
        "        # this fruit is not in stock.\n",
        "        return 0\n",
        "\n",
        "def main():\n",
        "    fruit: str = input(\"Enter a fruit: \")\n",
        "    stock = num_in_stock(fruit)\n",
        "    if stock == 0:\n",
        "        print(\"This fruit is not in stock.\")\n",
        "    else:\n",
        "        print(\"This fruit is in stock! Here is how many:\")\n",
        "        print(stock)\n",
        "\n",
        "if __name__ == '__main__':\n",
        "    main()\n"
      ],
      "metadata": {
        "colab": {
          "base_uri": "https://localhost:8080/"
        },
        "id": "TVor_s-yZPxf",
        "outputId": "f3adb7b6-86dd-4a8a-b629-a9c217ad144c"
      },
      "execution_count": 6,
      "outputs": [
        {
          "output_type": "stream",
          "name": "stdout",
          "text": [
            "Enter a fruit: pear \n",
            "This fruit is not in stock.\n"
          ]
        }
      ]
    },
    {
      "cell_type": "code",
      "source": [
        "#04_multiple_returns\n",
        "def get_user_info():\n",
        "    first_name: str = input(\"What is your first name?: \")\n",
        "    last_name: str = input(\"What is your last name?: \")\n",
        "    email_address: str = input(\"What is your email address?: \")\n",
        "\n",
        "    return first_name, last_name, email_address\n",
        "\n",
        "########## No need to edit code past this point :) ##########\n",
        "\n",
        "def main():\n",
        "    user_data = get_user_info()\n",
        "    print(\"Received the following user data:\", user_data)\n",
        "\n",
        "if __name__ == \"__main__\":\n",
        "    main()\n"
      ],
      "metadata": {
        "colab": {
          "base_uri": "https://localhost:8080/"
        },
        "id": "EeaM3-djZfEs",
        "outputId": "3ce46be3-a033-45eb-aed4-66f73212bb03"
      },
      "execution_count": 7,
      "outputs": [
        {
          "output_type": "stream",
          "name": "stdout",
          "text": [
            "What is your first name?: Jane \n",
            "What is your last name?: Stanford\n",
            "What is your email address?: janestanford@stanford.edu\n",
            "Received the following user data: ('Jane ', 'Stanford', 'janestanford@stanford.edu')\n"
          ]
        }
      ]
    },
    {
      "cell_type": "code",
      "source": [
        "#05_subtract_7\n",
        "def main():\n",
        "    num: int = 7\n",
        "    num = subtract_seven(num)\n",
        "    print(\"this should be zero: \", num)\n",
        "\n",
        "def subtract_seven(num):\n",
        "    num = num - 7\n",
        "    return num\n",
        "\n",
        "# There is no need to edit code beyond this point\n",
        "if __name__ == '__main__':\n",
        "    main()\n"
      ],
      "metadata": {
        "colab": {
          "base_uri": "https://localhost:8080/"
        },
        "id": "-ySHpB7UaCP0",
        "outputId": "d244b162-1557-4f2e-bc88-e698b24645b0"
      },
      "execution_count": 8,
      "outputs": [
        {
          "output_type": "stream",
          "name": "stdout",
          "text": [
            "this should be zero:  0\n"
          ]
        }
      ]
    }
  ]
}