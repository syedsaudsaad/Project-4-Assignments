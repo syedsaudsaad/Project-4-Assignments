{
  "nbformat": 4,
  "nbformat_minor": 0,
  "metadata": {
    "colab": {
      "provenance": [],
      "authorship_tag": "ABX9TyMJ4CyZ/zCcYNbjPmrmbE4s",
      "include_colab_link": true
    },
    "kernelspec": {
      "name": "python3",
      "display_name": "Python 3"
    },
    "language_info": {
      "name": "python"
    }
  },
  "cells": [
    {
      "cell_type": "markdown",
      "metadata": {
        "id": "view-in-github",
        "colab_type": "text"
      },
      "source": [
        "<a href=\"https://colab.research.google.com/github/syedsaudsaad/Project-4-Assignments/blob/main/Assignments_1_to_6_5.ipynb\" target=\"_parent\"><img src=\"https://colab.research.google.com/assets/colab-badge.svg\" alt=\"Open In Colab\"/></a>"
      ]
    },
    {
      "cell_type": "markdown",
      "source": [
        "hangman game project 5\n"
      ],
      "metadata": {
        "id": "AzPAO9zaoxJE"
      }
    },
    {
      "cell_type": "code",
      "source": [
        "import random\n",
        "word = ['enum','python', 'collab', 'vscode','game']\n",
        "word = random.choice(word)\n",
        "guessed_letters = []\n",
        "attempts = 6\n",
        "print(\"welcome to hangan game project 8\")\n",
        "print(\"_\" * len(word))\n",
        "while attempts > 0:\n",
        "    guess = input(\"\\n guess the letters: \").lower()\n",
        "    if len(guess) != 1 or not guess.isalpha():\n",
        "        print(\"write one alphabat only!\")\n",
        "        continue\n",
        "    if guess in guessed_letters:\n",
        "        print(\"this letter is already guess choose another letter\")\n",
        "        continue\n",
        "    guessed_letters.append(guess)\n",
        "\n",
        "    if guess in word:\n",
        "        print(\"correct guess! \")\n",
        "    else:\n",
        "        attempts -= 1\n",
        "        print(f\"wrong {attempts} attempts.\")\n",
        "\n",
        "        displayed_word = \" \".join([letter if letter in guessed_letters else \"_\" for letter in word])\n",
        "        print(displayed_word)\n",
        "\n",
        "    if \"_\" not  in displayed_word:\n",
        "     print(f\"congratulational the correct word is: {word}\")\n",
        "     break\n",
        "else:\n",
        "        print(f\"Game over! the correct word is {word}\")"
      ],
      "metadata": {
        "colab": {
          "base_uri": "https://localhost:8080/"
        },
        "id": "oWSN3SjLo0hf",
        "outputId": "79f11f74-2ada-4314-a8b9-5d4939bc3d5c"
      },
      "execution_count": null,
      "outputs": [
        {
          "output_type": "stream",
          "name": "stdout",
          "text": [
            "welcome to hangan game project 8\n",
            "______\n",
            "\n",
            " guess the letters: p\n",
            "wrong 5 attempts.\n",
            "_ _ _ _ _ _\n",
            "\n",
            " guess the letters: y\n",
            "wrong 4 attempts.\n",
            "_ _ _ _ _ _\n",
            "\n",
            " guess the letters: t\n",
            "wrong 3 attempts.\n",
            "_ _ _ _ _ _\n",
            "\n",
            " guess the letters: h\n",
            "wrong 2 attempts.\n",
            "_ _ _ _ _ _\n",
            "\n",
            " guess the letters: o\n",
            "correct guess! \n",
            "\n",
            " guess the letters: n\n",
            "wrong 1 attempts.\n",
            "_ _ _ o _ _\n"
          ]
        }
      ]
    }
  ]
}