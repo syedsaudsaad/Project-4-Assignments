{
  "nbformat": 4,
  "nbformat_minor": 0,
  "metadata": {
    "colab": {
      "provenance": [],
      "authorship_tag": "ABX9TyP0d/nNsm848aOX3ituK0yU",
      "include_colab_link": true
    },
    "kernelspec": {
      "name": "python3",
      "display_name": "Python 3"
    },
    "language_info": {
      "name": "python"
    }
  },
  "cells": [
    {
      "cell_type": "markdown",
      "metadata": {
        "id": "view-in-github",
        "colab_type": "text"
      },
      "source": [
        "<a href=\"https://colab.research.google.com/github/syedsaudsaad/Project-4-Assignments/blob/main/Assignments_1_to_6_.ipynb\" target=\"_parent\"><img src=\"https://colab.research.google.com/assets/colab-badge.svg\" alt=\"Open In Colab\"/></a>"
      ]
    },
    {
      "cell_type": "markdown",
      "source": [
        "Guess the Number Game Python Project (user) 3\n",
        "\n"
      ],
      "metadata": {
        "id": "9LLoXwNX7ht3"
      }
    },
    {
      "cell_type": "code",
      "source": [
        "import random\n",
        "print(\"\\n ✨Welcome to the Number Guessing Game.✨ \\n\")\n",
        "print(\"\\n 👨‍💻 User Guess the Number 👩‍💻 \\n\")\n",
        "\n",
        "Secret_Number = random.randint(1,10)\n",
        "print(\"🎯 I have a Secret Number between 1 to 10. Can you guess it? 🤔\")\n",
        "\n",
        "while True:\n",
        "  try:\n",
        "    guess = int(input(\"🔢Guess the Number.\"))\n",
        "\n",
        "    if guess > Secret_Number:\n",
        "      print(\"📈 Too High! Try again. 🔄\")\n",
        "    elif guess < Secret_Number:\n",
        "      print(\"📉 Too Low! Try again. 🔄\")\n",
        "    else:\n",
        "      print(\"🎉 🎉🎉🎉🎉 Congratulation you guess the right number. 🎉 🎉🎉🎉🎉\" )\n",
        "      break\n",
        "  except ValueError:\n",
        "    print(\"⚠️ Please enter a valid number! 🚫\")"
      ],
      "metadata": {
        "colab": {
          "base_uri": "https://localhost:8080/"
        },
        "id": "PBanGfwb7pk7",
        "outputId": "8ae82a5c-dbe0-4b72-ce51-55c621487b87"
      },
      "execution_count": 1,
      "outputs": [
        {
          "output_type": "stream",
          "name": "stdout",
          "text": [
            "\n",
            " ✨Welcome to the Number Guessing Game.✨ \n",
            "\n",
            "\n",
            " 👨‍💻 User Guess the Number 👩‍💻 \n",
            "\n",
            "🎯 I have a Secret Number between 1 to 10. Can you guess it? 🤔\n",
            "🔢Guess the Number.6\n",
            "📈 Too High! Try again. 🔄\n",
            "🔢Guess the Number.4\n",
            "📈 Too High! Try again. 🔄\n",
            "🔢Guess the Number.3\n",
            "📈 Too High! Try again. 🔄\n",
            "🔢Guess the Number.2\n",
            "📈 Too High! Try again. 🔄\n",
            "🔢Guess the Number.1\n",
            "🎉 🎉🎉🎉🎉 Congratulation you guess the right number. 🎉 🎉🎉🎉🎉\n"
          ]
        }
      ]
    }
  ]
}