{
  "nbformat": 4,
  "nbformat_minor": 0,
  "metadata": {
    "colab": {
      "provenance": [],
      "authorship_tag": "ABX9TyP2Jrp+el/Q9dAfY/VdJvu8",
      "include_colab_link": true
    },
    "kernelspec": {
      "name": "python3",
      "display_name": "Python 3"
    },
    "language_info": {
      "name": "python"
    }
  },
  "cells": [
    {
      "cell_type": "markdown",
      "metadata": {
        "id": "view-in-github",
        "colab_type": "text"
      },
      "source": [
        "<a href=\"https://colab.research.google.com/github/syedsaudsaad/Project-4-Assignments/blob/main/Assignments_1_to_6_6.ipynb\" target=\"_parent\"><img src=\"https://colab.research.google.com/assets/colab-badge.svg\" alt=\"Open In Colab\"/></a>"
      ]
    },
    {
      "cell_type": "markdown",
      "source": [
        "Countdown Timer Python Project 6"
      ],
      "metadata": {
        "id": "9XKQGvwd3cnv"
      }
    },
    {
      "cell_type": "code",
      "source": [
        "import time\n",
        "print(\"\\n ⏲️⏰⏱️ Welcome to the Countdown Timer. ⏲️⏰⏱️ \\n\")\n",
        "\n",
        "def countdown_timer(seconds):\n",
        "  while seconds:\n",
        "    mins,secs = divmod(seconds,60)\n",
        "    time_display = f\"{mins:02d}:{secs:02d}\"\n",
        "    print(f\"\\r⏳ {time_display} ⏳\", end=\"\")\n",
        "    time.sleep(1)\n",
        "    seconds -= 1\n",
        "  print(\"\\n🚨 Time's up ⏰\")\n",
        "try:\n",
        "    total_time = int(input(\"Enter the time in seconds:\"))\n",
        "    countdown_timer(total_time)\n",
        "except ValueError:\n",
        "    print(\"❌ Invalid input! Please enter a valid input!\")"
      ],
      "metadata": {
        "colab": {
          "base_uri": "https://localhost:8080/"
        },
        "id": "6zFmtND_3f3f",
        "outputId": "016d5d43-f1ae-4275-d5a8-0404d81455df"
      },
      "execution_count": null,
      "outputs": [
        {
          "output_type": "stream",
          "name": "stdout",
          "text": [
            "\n",
            " ⏲️⏰⏱️ Welcome to the Countdown Timer. ⏲️⏰⏱️ \n",
            "\n",
            "Enter the time in seconds:10\n",
            "⏳ 00:01 ⏳\n",
            "🚨 Time's up ⏰\n"
          ]
        }
      ]
    }
  ]
}