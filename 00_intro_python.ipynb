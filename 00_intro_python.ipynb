{
  "nbformat": 4,
  "nbformat_minor": 0,
  "metadata": {
    "colab": {
      "provenance": [],
      "authorship_tag": "ABX9TyPQRFZBmp4kxL+8yvgmrzVN",
      "include_colab_link": true
    },
    "kernelspec": {
      "name": "python3",
      "display_name": "Python 3"
    },
    "language_info": {
      "name": "python"
    }
  },
  "cells": [
    {
      "cell_type": "markdown",
      "metadata": {
        "id": "view-in-github",
        "colab_type": "text"
      },
      "source": [
        "<a href=\"https://colab.research.google.com/github/syedsaudsaad/Project-4-Assignments/blob/main/00_intro_python.ipynb\" target=\"_parent\"><img src=\"https://colab.research.google.com/assets/colab-badge.svg\" alt=\"Open In Colab\"/></a>"
      ]
    },
    {
      "cell_type": "code",
      "execution_count": 10,
      "metadata": {
        "colab": {
          "base_uri": "https://localhost:8080/"
        },
        "id": "kipWgPuxK_lp",
        "outputId": "dbd258e2-4f47-45b7-eee1-371d56f94cc1"
      },
      "outputs": [
        {
          "output_type": "stream",
          "name": "stdout",
          "text": [
            "01_add_two_numbers\n",
            "This application for add two numbers.\n",
            "Enter your first number.5\n",
            "Enter your second number.7\n",
            "The total sum of 5 and 7 is 57\n"
          ]
        }
      ],
      "source": [
        "print(\"01_add_two_numbers\")\n",
        "\n",
        "def add():\n",
        "    print(\"This application for add two numbers. \")\n",
        "    frist_number : int = (input(\"Enter your first number. \"))\n",
        "    second_number : int = (input(\"Enter your second number. \"))\n",
        "    total = int(frist_number + second_number)\n",
        "    print(f'The total sum of {frist_number} and {second_number} is {total}' )\n",
        "\n",
        "if __name__ == \"__main__\":\n",
        "  add()\n",
        ""
      ]
    },
    {
      "cell_type": "code",
      "source": [
        "print(\"02_agreement_bot\")\n",
        "\n",
        "def bot():\n",
        "  animal = str(input(\"what is your favorite animal is? \"))\n",
        "  print(f'My favorite animal is also {animal}!')\n",
        "\n",
        "if __name__ == '__main__':\n",
        "      bot()"
      ],
      "metadata": {
        "colab": {
          "base_uri": "https://localhost:8080/"
        },
        "id": "DyxwXwPaQyTa",
        "outputId": "2a08f5fc-e9a8-46e5-9e8a-1651fd726d63"
      },
      "execution_count": 13,
      "outputs": [
        {
          "output_type": "stream",
          "name": "stdout",
          "text": [
            "02_agreement_bot\n",
            "what is your favorite animal is?doy\n",
            "My favorite animal is also doy!\n"
          ]
        }
      ]
    },
    {
      "cell_type": "code",
      "source": [
        "print(\"03_fahrenheit_to_celsius\")\n",
        "\n",
        "def temp():\n",
        "  print(\"This code  for coverting fahrenheit to celsius\")\n",
        "  fahrenheit_degree = float(input(\"Enter your fahrenheit degree\"))\n",
        "  celsius_degree = (fahrenheit_degree -32) * 5.0/9.0\n",
        "  print(f'Temperature {fahrenheit_degree}F = {celsius_degree}C')\n",
        "\n",
        "if __name__ == '__main__':\n",
        "    temp()"
      ],
      "metadata": {
        "colab": {
          "base_uri": "https://localhost:8080/"
        },
        "id": "yDh4rvnCa3b1",
        "outputId": "3670f7ff-d848-4bc8-da02-8cb6c1cfeb0f"
      },
      "execution_count": 16,
      "outputs": [
        {
          "output_type": "stream",
          "name": "stdout",
          "text": [
            "03_fahrenheit_to_celsius\n",
            "This code  for coverting fahrenheit to celsius\n",
            "Enter your fahrenheit degree54\n",
            "Temperature 54.0F = 12.222222222222221C\n"
          ]
        }
      ]
    },
    {
      "cell_type": "code",
      "source": [
        "print(\"04_how_old_are_they\")\n",
        "\n",
        "def add_age():\n",
        "  anthon:int = 21\n",
        "  beth:int = anthon + 6\n",
        "  chen:int = beth + 20\n",
        "  drew:int = chen + anthon\n",
        "  ethan:int = chen\n",
        "  print(\"Anthon is \" + str(anthon))\n",
        "  print(\"Beth is \" + str(beth))\n",
        "  print(\"Chen is \" + str(chen))\n",
        "  print(\"Drew is \" + str(drew))\n",
        "  print(\"Ethan is \" + str(ethan))\n",
        "\n",
        "if __name__ == '__main__':\n",
        "    add_age()"
      ],
      "metadata": {
        "colab": {
          "base_uri": "https://localhost:8080/"
        },
        "id": "U3FYH5XLn6Yo",
        "outputId": "01ef58dd-5c4a-481c-c326-a234f7b1950a"
      },
      "execution_count": 19,
      "outputs": [
        {
          "output_type": "stream",
          "name": "stdout",
          "text": [
            "04_how_old_are_they\n",
            "Anthon is 21\n",
            "Beth is 27\n",
            "Chen is 47\n",
            "Drew is 68\n",
            "Ethan is 47\n"
          ]
        }
      ]
    },
    {
      "cell_type": "code",
      "source": [
        "print(\"05_triangle_perimeter\")\n",
        "def triangle():\n",
        "  print(\"This code is about perimeter of triangle sides\")\n",
        "  side1:float = float(input(\"Enter your frist side  no of triangle. \"))\n",
        "  side2:float = float(input(\"Enter your second side no of triangle.\"))\n",
        "  side3:float = float(input(\"Enter your third side no of triangle.\"))\n",
        "  total:float = float(side1 + side2 + side3)\n",
        "  print(f'The perimeter of the triangle is {total}')\n",
        "if __name__ == '__main__':\n",
        "    triangle()"
      ],
      "metadata": {
        "colab": {
          "base_uri": "https://localhost:8080/"
        },
        "id": "-3BBtwBPxQHp",
        "outputId": "edbcff26-6e01-4803-de80-18ae874c2032"
      },
      "execution_count": 21,
      "outputs": [
        {
          "output_type": "stream",
          "name": "stdout",
          "text": [
            "05_triangle_perimeter\n",
            "This code is about peri of triangle sides\n",
            "Enter your frist side  no of triangle. 6.4\n",
            "Enter your second side no of triangle.4\n",
            "Enter your third side no of triangle.8\n",
            "The perimeter of the triangle is 18.4\n"
          ]
        }
      ]
    },
    {
      "cell_type": "code",
      "source": [
        "print(\"06_square_number\")\n",
        "def square():\n",
        " print(\"This code is about square of given number\")\n",
        " num1:int = int(input(\"Enter any number and i will give us a square value. \"))\n",
        " print(f'The square of {num1} is {num1 ** 2}')\n",
        "if __name__ == '__main__':\n",
        "    square()"
      ],
      "metadata": {
        "colab": {
          "base_uri": "https://localhost:8080/"
        },
        "id": "_lcI9BJB3CiA",
        "outputId": "a8a3bee6-788b-4bf1-913c-2fe6b3068ee1"
      },
      "execution_count": 24,
      "outputs": [
        {
          "output_type": "stream",
          "name": "stdout",
          "text": [
            "06_square_number\n",
            "This code is about square of given number\n",
            "Enter any number and i will give us a square value. 2\n",
            "The square of 2 is 4\n"
          ]
        }
      ]
    }
  ]
}